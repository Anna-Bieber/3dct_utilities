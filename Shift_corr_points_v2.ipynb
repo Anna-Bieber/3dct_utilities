{
 "cells": [
  {
   "cell_type": "code",
   "execution_count": 1,
   "metadata": {},
   "outputs": [],
   "source": [
    "import numpy as np\n",
    "from pathlib import Path\n",
    "#from statistics import mean"
   ]
  },
  {
   "cell_type": "code",
   "execution_count": 49,
   "metadata": {},
   "outputs": [],
   "source": [
    "in_dir = Path(r'/fs/pool/pool-erdmann/Cristina/Yeast_autophagy/Bulk/XA_GFP_Atg8/XA009_1/20201020_XA009_1/FOV18/')\n",
    "in_file = 'Corr_eb_points.csv' # old Corr_eb file\n",
    "\n",
    "shift_file = 'eb_shifts.csv' # file containing first few points in new position\n",
    "\n",
    "out_file = 'Corr_eb_points_shifted.csv'"
   ]
  },
  {
   "cell_type": "code",
   "execution_count": 50,
   "metadata": {},
   "outputs": [],
   "source": [
    "p_orig = np.genfromtxt(Path(in_dir, in_file))\n",
    "p_shift = np.genfromtxt(Path(in_dir, shift_file))"
   ]
  },
  {
   "cell_type": "code",
   "execution_count": 51,
   "metadata": {},
   "outputs": [],
   "source": [
    "x_shifts = []\n",
    "y_shifts = []\n",
    "\n",
    "for n, row in enumerate(p_shift):\n",
    "    x_shifts.append(row[0] - p_orig[n][0])\n",
    "    y_shifts.append(row[1] - p_orig[n][1])\n",
    "    \n",
    "x_shifts = np.array(x_shifts)\n",
    "y_shifts = np.array(y_shifts)"
   ]
  },
  {
   "cell_type": "code",
   "execution_count": 52,
   "metadata": {},
   "outputs": [],
   "source": [
    "d_x = x_shifts[abs(x_shifts) > 0.001].mean()\n",
    "d_y = y_shifts[abs(y_shifts) > 0.001].mean()"
   ]
  },
  {
   "cell_type": "code",
   "execution_count": 53,
   "metadata": {},
   "outputs": [],
   "source": [
    "offset = np.array([d_x, d_y, 0])"
   ]
  },
  {
   "cell_type": "code",
   "execution_count": 54,
   "metadata": {},
   "outputs": [],
   "source": [
    "p_new = p_orig + offset"
   ]
  },
  {
   "cell_type": "code",
   "execution_count": 55,
   "metadata": {},
   "outputs": [],
   "source": [
    "np.savetxt(Path(in_dir, out_file),\n",
    "          p_new,\n",
    "          delimiter='\\t')"
   ]
  },
  {
   "cell_type": "code",
   "execution_count": null,
   "metadata": {},
   "outputs": [],
   "source": []
  }
 ],
 "metadata": {
  "kernelspec": {
   "display_name": "Python 3",
   "language": "python",
   "name": "python3"
  },
  "language_info": {
   "codemirror_mode": {
    "name": "ipython",
    "version": 3
   },
   "file_extension": ".py",
   "mimetype": "text/x-python",
   "name": "python",
   "nbconvert_exporter": "python",
   "pygments_lexer": "ipython3",
   "version": "3.7.7"
  }
 },
 "nbformat": 4,
 "nbformat_minor": 2
}
